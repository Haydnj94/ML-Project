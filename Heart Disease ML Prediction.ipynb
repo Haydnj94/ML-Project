{
 "cells": [
  {
   "cell_type": "markdown",
   "id": "acc0ac4e-cf20-4e3c-aaf0-f3af80f6cc7e",
   "metadata": {
    "jp-MarkdownHeadingCollapsed": true
   },
   "source": [
    "# Initialize"
   ]
  },
  {
   "cell_type": "code",
   "execution_count": 281,
   "id": "101a65ee-aefd-43db-9a7c-7ed06d831a58",
   "metadata": {},
   "outputs": [],
   "source": [
    "import pandas as pd\n",
    "import numpy as np\n",
    "from sklearn.model_selection import train_test_split\n",
    "from sklearn.neighbors import KNeighborsClassifier\n",
    "import seaborn as sns\n",
    "import matplotlib.pyplot as plt\n",
    "from sklearn.metrics import confusion_matrix"
   ]
  },
  {
   "cell_type": "markdown",
   "id": "c838f1b8-3d1b-4195-bae0-ca09d3ee3db6",
   "metadata": {
    "jp-MarkdownHeadingCollapsed": true
   },
   "source": [
    "# Data Cleaning"
   ]
  },
  {
   "cell_type": "code",
   "execution_count": 187,
   "id": "f526bcd5-9d39-47d2-8a28-f49d9c09ed44",
   "metadata": {},
   "outputs": [
    {
     "data": {
      "text/html": [
       "<div>\n",
       "<style scoped>\n",
       "    .dataframe tbody tr th:only-of-type {\n",
       "        vertical-align: middle;\n",
       "    }\n",
       "\n",
       "    .dataframe tbody tr th {\n",
       "        vertical-align: top;\n",
       "    }\n",
       "\n",
       "    .dataframe thead th {\n",
       "        text-align: right;\n",
       "    }\n",
       "</style>\n",
       "<table border=\"1\" class=\"dataframe\">\n",
       "  <thead>\n",
       "    <tr style=\"text-align: right;\">\n",
       "      <th></th>\n",
       "      <th>age</th>\n",
       "      <th>sex</th>\n",
       "      <th>cp</th>\n",
       "      <th>trestbps</th>\n",
       "      <th>chol</th>\n",
       "      <th>fbs</th>\n",
       "      <th>restecg</th>\n",
       "      <th>thalach</th>\n",
       "      <th>exang</th>\n",
       "      <th>oldpeak</th>\n",
       "      <th>slope</th>\n",
       "      <th>ca</th>\n",
       "      <th>thal</th>\n",
       "      <th>target</th>\n",
       "    </tr>\n",
       "  </thead>\n",
       "  <tbody>\n",
       "    <tr>\n",
       "      <th>0</th>\n",
       "      <td>63</td>\n",
       "      <td>1</td>\n",
       "      <td>3</td>\n",
       "      <td>145</td>\n",
       "      <td>233</td>\n",
       "      <td>1</td>\n",
       "      <td>0</td>\n",
       "      <td>150</td>\n",
       "      <td>0</td>\n",
       "      <td>2.3</td>\n",
       "      <td>0</td>\n",
       "      <td>0</td>\n",
       "      <td>1</td>\n",
       "      <td>1</td>\n",
       "    </tr>\n",
       "    <tr>\n",
       "      <th>1</th>\n",
       "      <td>37</td>\n",
       "      <td>1</td>\n",
       "      <td>2</td>\n",
       "      <td>130</td>\n",
       "      <td>250</td>\n",
       "      <td>0</td>\n",
       "      <td>1</td>\n",
       "      <td>187</td>\n",
       "      <td>0</td>\n",
       "      <td>3.5</td>\n",
       "      <td>0</td>\n",
       "      <td>0</td>\n",
       "      <td>2</td>\n",
       "      <td>1</td>\n",
       "    </tr>\n",
       "    <tr>\n",
       "      <th>2</th>\n",
       "      <td>41</td>\n",
       "      <td>0</td>\n",
       "      <td>1</td>\n",
       "      <td>130</td>\n",
       "      <td>204</td>\n",
       "      <td>0</td>\n",
       "      <td>0</td>\n",
       "      <td>172</td>\n",
       "      <td>0</td>\n",
       "      <td>1.4</td>\n",
       "      <td>2</td>\n",
       "      <td>0</td>\n",
       "      <td>2</td>\n",
       "      <td>1</td>\n",
       "    </tr>\n",
       "    <tr>\n",
       "      <th>3</th>\n",
       "      <td>56</td>\n",
       "      <td>1</td>\n",
       "      <td>1</td>\n",
       "      <td>120</td>\n",
       "      <td>236</td>\n",
       "      <td>0</td>\n",
       "      <td>1</td>\n",
       "      <td>178</td>\n",
       "      <td>0</td>\n",
       "      <td>0.8</td>\n",
       "      <td>2</td>\n",
       "      <td>0</td>\n",
       "      <td>2</td>\n",
       "      <td>1</td>\n",
       "    </tr>\n",
       "    <tr>\n",
       "      <th>4</th>\n",
       "      <td>57</td>\n",
       "      <td>0</td>\n",
       "      <td>0</td>\n",
       "      <td>120</td>\n",
       "      <td>354</td>\n",
       "      <td>0</td>\n",
       "      <td>1</td>\n",
       "      <td>163</td>\n",
       "      <td>1</td>\n",
       "      <td>0.6</td>\n",
       "      <td>2</td>\n",
       "      <td>0</td>\n",
       "      <td>2</td>\n",
       "      <td>1</td>\n",
       "    </tr>\n",
       "  </tbody>\n",
       "</table>\n",
       "</div>"
      ],
      "text/plain": [
       "   age  sex  cp  trestbps  chol  fbs  restecg  thalach  exang  oldpeak  slope  \\\n",
       "0   63    1   3       145   233    1        0      150      0      2.3      0   \n",
       "1   37    1   2       130   250    0        1      187      0      3.5      0   \n",
       "2   41    0   1       130   204    0        0      172      0      1.4      2   \n",
       "3   56    1   1       120   236    0        1      178      0      0.8      2   \n",
       "4   57    0   0       120   354    0        1      163      1      0.6      2   \n",
       "\n",
       "   ca  thal  target  \n",
       "0   0     1       1  \n",
       "1   0     2       1  \n",
       "2   0     2       1  \n",
       "3   0     2       1  \n",
       "4   0     2       1  "
      ]
     },
     "execution_count": 187,
     "metadata": {},
     "output_type": "execute_result"
    }
   ],
   "source": [
    "# Load csv dataset\n",
    "df = pd.read_csv(\"Data Assets/heart.csv\")\n",
    "\n",
    "# Rename columns for better understanding\n",
    "df.rename(columns={\n",
    "    'cp': 'chest_pain_type',\n",
    "    'trestbps': 'resting_blood_pressure',\n",
    "    'chol': 'serum_cholesterol',\n",
    "    'fbs': 'fasting_blood_sugar',\n",
    "    'restecg': 'resting_ecg_result',\n",
    "    'thalach': 'max_heart_rate_achieved',\n",
    "    'exang': 'exercise_induced_angina',\n",
    "    'oldpeak': 'st_depression_exercise_vs_rest',\n",
    "    'slope': 'slope_peak_exercise_st_segment',\n",
    "    'ca': 'num_major_vessels_colored_by_fluoro',\n",
    "    'thal': 'thalassemia_blood_disorder'\n",
    "}, inplace=True)"
   ]
  },
  {
   "cell_type": "code",
   "execution_count": 254,
   "id": "6785de98-02fb-4f56-88d7-c94e49046a05",
   "metadata": {},
   "outputs": [
    {
     "data": {
      "text/plain": [
       "age                                    0\n",
       "sex                                    0\n",
       "chest_pain_type                        0\n",
       "resting_blood_pressure                 0\n",
       "serum_cholesterol                      0\n",
       "fasting_blood_sugar                    0\n",
       "resting_ecg_result                     0\n",
       "max_heart_rate_achieved                0\n",
       "exercise_induced_angina                0\n",
       "st_depression_exercise_vs_rest         0\n",
       "slope_peak_exercise_st_segment         0\n",
       "num_major_vessels_colored_by_fluoro    0\n",
       "thalassemia_blood_disorder             0\n",
       "target                                 0\n",
       "dtype: int64"
      ]
     },
     "execution_count": 254,
     "metadata": {},
     "output_type": "execute_result"
    }
   ],
   "source": [
    "# Check for any null values\n",
    "df.isna().sum()"
   ]
  },
  {
   "cell_type": "markdown",
   "id": "cbdc7dc0-c98c-4755-914c-ab13dd5aceeb",
   "metadata": {
    "jp-MarkdownHeadingCollapsed": true
   },
   "source": [
    "# Predictive Module Creation"
   ]
  },
  {
   "cell_type": "code",
   "execution_count": 197,
   "id": "a6a6e28d-f39e-47a7-97ad-43f7a71367f5",
   "metadata": {},
   "outputs": [],
   "source": [
    "# Set numerical fields as features (all but 'target' in this case)\n",
    "features = df.drop(columns=['target'])\n",
    "\n",
    "# Set 'target' as target\n",
    "target = df['target']"
   ]
  },
  {
   "cell_type": "code",
   "execution_count": 242,
   "id": "72263c8f-4269-466b-a10b-615d892599d5",
   "metadata": {},
   "outputs": [],
   "source": [
    "# Split the dataset into training and testing sets\n",
    "# X_train, X_test: Features for training and testing\n",
    "# y_train, y_test: Target (labels) for training and testing\n",
    "# test_size=0.25 means 25% of the data will be used for testing, and 75% for training\n",
    "# random_state=42 ensures reproducibility of the split\n",
    "X_train, X_test, y_train, y_test = train_test_split(features, target, test_size=0.25, random_state=42)\n",
    "\n",
    "# Create a K-Nearest Neighbors (KNN) classifier model\n",
    "# n_neighbors=3 means the model will consider the 3 nearest neighbors to make a prediction\n",
    "knn = KNeighborsClassifier(n_neighbors=3)\n",
    "\n",
    "# Train (fit) the KNN model using the training data (X_train and y_train)\n",
    "# This step involves learning from the training data and creating the model\n",
    "knn.fit(X_train, y_train)"
   ]
  },
  {
   "cell_type": "code",
   "execution_count": 256,
   "id": "daec70aa-1ff2-4102-9743-f9a7b2ecaca2",
   "metadata": {},
   "outputs": [
    {
     "data": {
      "text/plain": [
       "array([0, 1, 1, 1, 0, 1, 1, 0, 0, 1, 0, 0, 1, 0, 1, 1, 1, 0, 0, 0, 0, 0,\n",
       "       0, 0, 0, 1, 0, 1, 0, 1, 0, 0, 0, 1, 0, 0, 1, 1, 1, 1, 0, 1, 0, 1,\n",
       "       1, 0, 1, 1, 1, 1, 1, 0, 0, 0, 1, 0, 0, 1, 0, 1, 0, 1, 0, 1, 1, 0,\n",
       "       1, 0, 0, 0, 1, 1, 1, 1, 0, 1])"
      ]
     },
     "execution_count": 256,
     "metadata": {},
     "output_type": "execute_result"
    }
   ],
   "source": [
    "# Use the trained K-Nearest Neighbors (KNN) model to make predictions on the test data (X_test)\n",
    "# The model predicts the target values (heart disease presence) for the input features (X_test)\n",
    "pred = knn.predict(X_test)\n",
    "\n",
    "# Display the predictions made by the KNN model on the test set\n",
    "pred"
   ]
  },
  {
   "cell_type": "code",
   "execution_count": 250,
   "id": "f2cebb3d-a2a0-4b77-8e02-ea34cb4cd2f0",
   "metadata": {},
   "outputs": [
    {
     "data": {
      "text/plain": [
       "array([0, 0, 1, 0, 1, 1, 1, 0, 0, 1, 1, 1, 1, 0, 1, 1, 1, 0, 0, 0, 1, 0,\n",
       "       0, 1, 1, 0, 0, 1, 0, 1, 1, 0, 0, 1, 1, 0, 1, 1, 1, 1, 1, 1, 1, 1,\n",
       "       1, 0, 0, 1, 0, 0, 0, 0, 1, 1, 0, 0, 0, 1, 0, 0, 0, 1, 0, 0, 1, 0,\n",
       "       1, 1, 1, 0, 1, 1, 0, 1, 0, 1])"
      ]
     },
     "execution_count": 250,
     "metadata": {},
     "output_type": "execute_result"
    }
   ],
   "source": [
    "# Display the y_test values\n",
    "y_test.values"
   ]
  },
  {
   "cell_type": "code",
   "execution_count": 258,
   "id": "1b14a3fd-fafe-4481-a5c6-2a1c2f435a74",
   "metadata": {},
   "outputs": [
    {
     "data": {
      "text/plain": [
       "0.6710526315789473"
      ]
     },
     "execution_count": 258,
     "metadata": {},
     "output_type": "execute_result"
    }
   ],
   "source": [
    "# Evaluate the performance of the trained K-Nearest Neighbors (KNN) model on the test set\n",
    "# The `score()` method calculates the accuracy of the model by comparing the predicted values to the actual values\n",
    "knn.score(X_test, y_test)"
   ]
  },
  {
   "cell_type": "code",
   "execution_count": 287,
   "id": "22b3bd0a-d919-4b23-ae2a-5b7415af40f9",
   "metadata": {},
   "outputs": [],
   "source": [
    "from sklearn.metrics import classification_report\n",
    "\n",
    "# Calculate the predicted values for the test set\n",
    "pred = knn.predict(X_test)\n",
    "\n",
    "# Generate the classification report, which includes precision, recall, and F1-score\n",
    "# The report will show these metrics for each class (0 and 1 in a binary classification problem)\n",
    "report = classification_report(y_test, pred, output_dict=True)\n",
    "\n",
    "# Convert the dictionary to a pandas DataFrame for better readability\n",
    "report_df = pd.DataFrame(report).transpose()"
   ]
  },
  {
   "cell_type": "markdown",
   "id": "d5852d18-9478-4cb4-bf6b-78f91b0355a5",
   "metadata": {
    "jp-MarkdownHeadingCollapsed": true
   },
   "source": [
    "## Prediction Outcomes"
   ]
  },
  {
   "cell_type": "code",
   "execution_count": 293,
   "id": "53bd5d18-884c-43af-9bda-2cd3de1a56f5",
   "metadata": {},
   "outputs": [
    {
     "data": {
      "image/png": "[encoded data removed]",
      "text/plain": [
       "<Figure size 600x500 with 2 Axes>"
      ]
     },
     "metadata": {},
     "output_type": "display_data"
    },
    {
     "data": {
      "text/plain": [
       "(None,\n",
       "               precision    recall  f1-score    support\n",
       " 0              0.631579  0.685714  0.657534  35.000000\n",
       " 1              0.710526  0.658537  0.683544  41.000000\n",
       " accuracy       0.671053  0.671053  0.671053   0.671053\n",
       " macro avg      0.671053  0.672125  0.670539  76.000000\n",
       " weighted avg   0.674169  0.671053  0.671566  76.000000)"
      ]
     },
     "execution_count": 293,
     "metadata": {},
     "output_type": "execute_result"
    }
   ],
   "source": [
    "# Get predictions from the model\n",
    "pred = knn.predict(X_test)\n",
    "\n",
    "# Calculate the confusion matrix\n",
    "cm = confusion_matrix(y_test, pred)\n",
    "\n",
    "# Plot the confusion matrix using seaborn heatmap\n",
    "plt.figure(figsize=(6, 5))\n",
    "sns.heatmap(cm, annot=True, fmt='d', cmap='Blues', xticklabels=['No Disease', 'Disease'], yticklabels=['No Disease', 'Disease'])\n",
    "\n",
    "# Adding labels and title\n",
    "plt.xlabel('Predicted')\n",
    "plt.ylabel('Actual')\n",
    "plt.title('Confusion Matrix')\n",
    "\n",
    "# Show the plot\n",
    "plt.show(), report_df"
   ]
  },
  {
   "cell_type": "code",
   "execution_count": null,
   "id": "e600cf7c-8476-4518-a84b-61bee009d2d5",
   "metadata": {},
   "outputs": [],
   "source": []
  }
 ],
 "metadata": {
  "kernelspec": {
   "display_name": "Python [conda env:base] *",
   "language": "python",
   "name": "conda-base-py"
  },
  "language_info": {
   "codemirror_mode": {
    "name": "ipython",
    "version": 3
   },
   "file_extension": ".py",
   "mimetype": "text/x-python",
   "name": "python",
   "nbconvert_exporter": "python",
   "pygments_lexer": "ipython3",
   "version": "3.12.7"
  }
 },
 "nbformat": 4,
 "nbformat_minor": 5
}
